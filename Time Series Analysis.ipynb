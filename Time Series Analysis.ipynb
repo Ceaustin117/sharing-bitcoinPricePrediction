{
 "cells": [
  {
   "cell_type": "code",
   "execution_count": 2,
   "metadata": {},
   "outputs": [],
   "source": [
    "def normal_rolling(data):\n",
    "    df = data.sort_values('Date',ascending=True)\n",
    "    open_pred = data[['Avg Open']] \n",
    "    plot_open25 = open_pred.rolling(25).mean() \n",
    "    #for window size =100, 200, a hugedifference in the moving average and actual open price was observed.\n",
    "    write_to(\"Rolling Window : 25 \",plot_open25)\n",
    "    print(\"Rolling Window : 25 \")\n",
    "    print(plot_open25)\n",
    "    print(\"Rolling Window : 15 \")\n",
    "    plot_open15 = open_pred.rolling(15).mean()\n",
    "    write_to(\"Rolling Window : 15 \", plot_open15)\n",
    "    print(\"Rolling Window : 50 \")\n",
    "    plot_open50 = open_pred.rolling(50).mean()\n",
    "    write_to(\"Rolling Window : 50 \", plot_open50)\n",
    "    print(plot_open50)\n",
    "    print(\"Rolling Window : 100 \")\n",
    "    open_pred100 = open_pred.rolling(100).mean()\n",
    "    write_to(\"Rolling Window : 100 \", open_pred100)\n",
    "    print(open_pred100)\n",
    "    print(\"Rolling Window : Average \")\n",
    "    avg_open_pred = (plot_open25+plot_open15+plot_open50+open_pred100)/4\n",
    "    write_to(\"Rolling Window : Average \", avg_open_pred)\n",
    "    print(avg_open_pred)\n",
    "    plt.plot(df['Date'],df['Avg Open'], label='Open Value') #plot_open\n",
    "    plt.plot(df['Date'],avg_open_pred, label='Rolling Mean Open Prediction')\n",
    "    plt.xlabel('Timeline')\n",
    "    plt.legend()\n",
    "    plt.show() "
   ]
  },
  {
   "cell_type": "code",
   "execution_count": null,
   "metadata": {},
   "outputs": [],
   "source": []
  }
 ],
 "metadata": {
  "kernelspec": {
   "display_name": "Python 3",
   "language": "python",
   "name": "python3"
  },
  "language_info": {
   "codemirror_mode": {
    "name": "ipython",
    "version": 3
   },
   "file_extension": ".py",
   "mimetype": "text/x-python",
   "name": "python",
   "nbconvert_exporter": "python",
   "pygments_lexer": "ipython3",
   "version": "3.7.6"
  }
 },
 "nbformat": 4,
 "nbformat_minor": 4
}
