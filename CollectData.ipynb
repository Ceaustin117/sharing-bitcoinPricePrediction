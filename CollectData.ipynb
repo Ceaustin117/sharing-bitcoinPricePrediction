{
 "cells": [
  {
   "cell_type": "code",
   "execution_count": 2,
   "metadata": {},
   "outputs": [],
   "source": [
    "import quandl\n",
    "import pandas as pd\n",
    "import numpy as np\n",
    "import time\n",
    "from matplotlib import pyplot as plt \n",
    "import csv"
   ]
  },
  {
   "cell_type": "code",
   "execution_count": 7,
   "metadata": {},
   "outputs": [
    {
     "name": "stdout",
     "output_type": "stream",
     "text": [
      "['BCIW/_INX']\n"
     ]
    }
   ],
   "source": [
    "test_dataframes = {}\n",
    "train_dataframes = {}\n",
    "test_Open = {}\n",
    "quandl.ApiConfig.api_key = 'NKL13i-RzgYty_HQNy7_'\n",
    "data = ['BCHARTS/KRAKENUSD']\n",
    "data1 = ['BCIW/_INX']\n",
    "index = 1\n",
    "for i in range(index):\n",
    "    train_dataframes[i]=pd.DataFrame(quandl.get(data[i], start_date = \"2016-05-20'\", end_date = \"2017-12-31\"))\n",
    "for j in range(index):\n",
    "    test_dataframes[j]=pd.DataFrame(quandl.get(data[j], start_date = \"'2017-01-01\", end_date = \"2018-05-01\"))\n",
    "test_merged = test_dataframes[0]\n",
    "test_Open = test_merged['Open']\n",
    "test_Open.replace(0, np.nan, inplace=True)\n",
    "test_Open = test_Open.mean(axis=0) \n",
    "btc_test_dataframes = test_dataframes[0]\n",
    "btc_test_Closed = btc_test_dataframes['Close']\n",
    "btc_test_Closed.replace(0, np.nan, inplace=True)\n",
    "btc_test_Closed = btc_test_Closed.mean(axis=0) \n",
    "btc_test_dataframes['Avg Close'] = btc_test_Closed\n",
    "btc_test_dataframes['Avg Open'] = test_Open \n",
    "btc_test_dataframes.to_csv('out.csv',index=False)\n",
    "quandl.get(data1, start_date = \"2016-05-20'\", end_date = \"2017-12-31\")\n",
    "print(data1)"
   ]
  },
  {
   "cell_type": "code",
   "execution_count": null,
   "metadata": {},
   "outputs": [],
   "source": []
  }
 ],
 "metadata": {
  "kernelspec": {
   "display_name": "Python 3",
   "language": "python",
   "name": "python3"
  },
  "language_info": {
   "codemirror_mode": {
    "name": "ipython",
    "version": 3
   },
   "file_extension": ".py",
   "mimetype": "text/x-python",
   "name": "python",
   "nbconvert_exporter": "python",
   "pygments_lexer": "ipython3",
   "version": "3.7.6"
  }
 },
 "nbformat": 4,
 "nbformat_minor": 4
}
