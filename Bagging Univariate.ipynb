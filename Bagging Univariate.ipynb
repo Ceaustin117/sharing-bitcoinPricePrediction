{
 "cells": [
  {
   "cell_type": "code",
   "execution_count": 66,
   "metadata": {},
   "outputs": [],
   "source": [
    "import quandl\n",
    "import pandas as pd\n",
    "import numpy as np\n",
    "from numpy import mean\n",
    "from numpy import std\n",
    "from sklearn.datasets import make_classification\n",
    "from sklearn.model_selection import cross_val_score\n",
    "from sklearn.model_selection import RepeatedStratifiedKFold\n",
    "from sklearn.ensemble import BaggingClassifier\n",
    "from matplotlib import pyplot as plt\n",
    "from sklearn.preprocessing import MinMaxScaler, LabelEncoder\n",
    "from sklearn.model_selection import train_test_split\n",
    "from sklearn.ensemble import BaggingRegressor\n",
    "from sklearn.model_selection import cross_val_score\n",
    "from sklearn.model_selection import RepeatedKFold\n",
    "from sklearn.svm import SVR\n",
    "\n",
    "# get the dataset\n",
    "def get_dataset():\n",
    "    X, y = make_classification(n_samples=1000, n_features=20, n_informative=15, n_redundant=5, random_state=5)\n",
    "    return X, y\n",
    " \n",
    "# get a list of models to evaluate\n",
    "def get_models():\n",
    "    models = dict()\n",
    "    # define number of trees to consider\n",
    "    n_trees = [10, 50, 100]\n",
    "    for n in n_trees:\n",
    "        models[str(n)] = BaggingClassifier(n_estimators=n)\n",
    "    return models\n",
    " \n",
    "# evaluate a given model using cross-validation\n",
    "def evaluate_model(model, X, y):\n",
    "    # define the evaluation procedure\n",
    "    cv = RepeatedStratifiedKFold(n_splits=10, n_repeats=3, random_state=1)\n",
    "    # evaluate the model and collect the results\n",
    "    scores = cross_val_score(model, X, y, scoring='accuracy', cv=cv, n_jobs=-1)\n",
    "    return scores"
   ]
  },
  {
   "cell_type": "code",
   "execution_count": 67,
   "metadata": {},
   "outputs": [],
   "source": [
    "test_dataframes = {}\n",
    "train_dataframes = {}\n",
    "test_Open = {}\n",
    "quandl.ApiConfig.api_key = 'NKL13i-RzgYty_HQNy7_'\n",
    "data = ['BCHARTS/KRAKENUSD']\n",
    "index = 1\n",
    "for i in range(index):\n",
    "    train_dataframes[i] = pd.DataFrame(quandl.get(data[i], start_date=\"2016-05-20'\", end_date=\"2017-12-31\"))\n",
    "for j in range(index):\n",
    "    test_dataframes[j] = pd.DataFrame(quandl.get(data[j], start_date=\"'2017-01-01\", end_date=\"2018-05-01\"))\n",
    "test_merged = test_dataframes[0]\n",
    "test_Open = test_merged['Open']\n",
    "test_Open.replace(0, np.nan, inplace=True)\n",
    "test_Open = test_Open.mean(axis=0)\n",
    "btc_test_dataframes = test_dataframes[0]\n",
    "btc_test_Closed = btc_test_dataframes['Close']\n",
    "btc_test_Closed.replace(0, np.nan, inplace=True)\n",
    "btc_test_Closed = btc_test_Closed.mean(axis=0)\n",
    "btc_test_dataframes['Avg Close'] = btc_test_Closed\n",
    "btc_test_dataframes['Avg Open'] = test_Open\n",
    "btc_test_dataframes.to_csv('out.csv', index=False)\n",
    "test_merged\n",
    "training_set = pd.read_csv('out.csv')  # reading csv file\n",
    "res = []\n",
    "for i in range(training_set.shape[0]):\n",
    "    res.append([i + 1])\n",
    "\n",
    "scale = MinMaxScaler()\n",
    "y_training = scale.fit_transform(training_set.iloc[:, 0:1])\n",
    "x1,x2,y1,y2 = train_test_split(res, y_training, train_size=0.9, shuffle=False)\n",
    "# x_training\n",
    "# y_training\n",
    "# training_set\n",
    "res1 = scale.fit_transform(res)\n",
    "res = scale.fit_transform(res)\n",
    "res = res.reshape((-1, 1, 1))\n",
    "x1 = scale.fit_transform(x1)\n",
    "x2 = scale.fit_transform(x2)\n",
    "split = 90/ 100\n",
    "regr = BaggingRegressor()\n",
    "regr.fit(x1, y1.ravel())\n",
    "predicted_price = regr.predict(x2)\n",
    "#print('MAE: %.3f (%.3f)' % (mean(n_scores), std(n_scores)))\n",
    "x_test = x1[(x1.size * split).__round__():]\n",
    "y_test = y1[(y1.size * split).__round__():]\n",
    "x_train = x1[:(x1.size * split).__round__()]\n",
    "y_train = y1[:(y1.size * split).__round__()]"
   ]
  },
  {
   "cell_type": "code",
   "execution_count": 68,
   "metadata": {},
   "outputs": [
    {
     "name": "stdout",
     "output_type": "stream",
     "text": [
      "Standard deviation 0.2456900055213419\n",
      "SAD: 637.6097085534002\n",
      "SSD: 207.96628786204818\n"
     ]
    },
    {
     "data": {
      "image/png": "[encoded data removed]",
      "text/plain": [
       "<Figure size 432x288 with 1 Axes>"
      ]
     },
     "metadata": {
      "needs_background": "light"
     },
     "output_type": "display_data"
    }
   ],
   "source": [
    "# Result on MatPlot\n",
    "plt.plot(x2,y2, color='blue', label='Real BTC Value' , marker = '.')\n",
    "plt.plot(x2,predicted_price, color='red', label='Predicted BTC Value', linestyle ='dashed')\n",
    "plt.title('BTC Value Prediction')\n",
    "plt.xlabel('Days')\n",
    "plt.ylabel('BTC Value')\n",
    "plt.legend()\n",
    "difference = (y2 - predicted_price)\n",
    "print(\"Standard deviation\",np.std(difference))\n",
    "print(\"SAD:\", np.sum(np.abs(difference)))\n",
    "print(\"SSD:\", np.sum(np.square(difference)))\n",
    "plt.show()"
   ]
  },
  {
   "cell_type": "code",
   "execution_count": null,
   "metadata": {},
   "outputs": [],
   "source": []
  }
 ],
 "metadata": {
  "kernelspec": {
   "display_name": "Python 3",
   "language": "python",
   "name": "python3"
  },
  "language_info": {
   "codemirror_mode": {
    "name": "ipython",
    "version": 3
   },
   "file_extension": ".py",
   "mimetype": "text/x-python",
   "name": "python",
   "nbconvert_exporter": "python",
   "pygments_lexer": "ipython3",
   "version": "3.7.6"
  }
 },
 "nbformat": 4,
 "nbformat_minor": 4
}
