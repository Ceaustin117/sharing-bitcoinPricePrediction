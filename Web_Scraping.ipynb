{
 "cells": [
  {
   "cell_type": "code",
   "execution_count": 5,
   "metadata": {},
   "outputs": [],
   "source": [
    "from bs4 import BeautifulSoup as soup\n",
    "from urllib.request import urlopen\n",
    "plot_data =[]\n",
    "\n",
    "\n",
    "\n",
    "class Web_Scraper:\n",
    "   def __init__(self,url):\n",
    "        self.url = url\n",
    "        global plot_data\n",
    "\n",
    "   def data_collection(self):\n",
    "        uClient = urlopen(self.url)\n",
    "        u_page = uClient.read()\n",
    "        uClient.close()\n",
    "        page = soup(u_page, \"html.parser\")\n",
    "        pg = page.div\n",
    "        data = []\n",
    "        new_text = []\n",
    "        print(\"inside data collection\")\n",
    "        for t in page.find_all('p'):\n",
    "            data.append(t.text.encode(\"utf-8\"))\n",
    "            data = [str(i).encode(\"ascii\", \"ignore\") for i in data]\n",
    "\n",
    "        print(data)"
   ]
  },
  {
   "cell_type": "code",
   "execution_count": null,
   "metadata": {},
   "outputs": [],
   "source": []
  }
 ],
 "metadata": {
  "kernelspec": {
   "display_name": "Python 3",
   "language": "python",
   "name": "python3"
  },
  "language_info": {
   "codemirror_mode": {
    "name": "ipython",
    "version": 3
   },
   "file_extension": ".py",
   "mimetype": "text/x-python",
   "name": "python",
   "nbconvert_exporter": "python",
   "pygments_lexer": "ipython3",
   "version": "3.7.6"
  }
 },
 "nbformat": 4,
 "nbformat_minor": 4
}
