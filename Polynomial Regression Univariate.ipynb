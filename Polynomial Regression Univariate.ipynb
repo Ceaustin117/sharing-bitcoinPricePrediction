{
 "cells": [
  {
   "cell_type": "code",
   "execution_count": 15,
   "metadata": {},
   "outputs": [],
   "source": [
    "import quandl\n",
    "import reframed as reframed\n",
    "from sklearn.datasets import make_regression\n",
    "from sklearn.model_selection import cross_val_score\n",
    "from sklearn.model_selection import RepeatedKFold\n",
    "from sklearn.ensemble import BaggingRegressor\n",
    "import numpy as np\n",
    "import pandas as pd\n",
    "from pandas import read_csv\n",
    "from datetime import datetime\n",
    "from numpy import mean\n",
    "from numpy import std\n",
    "import requests\n",
    "from sklearn.preprocessing import MinMaxScaler, LabelEncoder\n",
    "from keras.models import Sequential\n",
    "from keras.layers import Dense\n",
    "from keras.layers import LSTM\n",
    "from keras.layers import Dropout\n",
    "from keras.layers import TimeDistributed\n",
    "from sklearn.linear_model import LinearRegression\n",
    "from sklearn.preprocessing import PolynomialFeatures\n",
    "from sklearn.neural_network import MLPRegressor\n",
    "from sklearn.preprocessing import StandardScaler\n",
    "from sklearn import preprocessing as pre\n",
    "from matplotlib import pyplot as plt\n",
    "import datetime as dt\n",
    "from sklearn.model_selection import train_test_split\n",
    "from sklearn.datasets import make_classification\n",
    "from sklearn.model_selection import cross_val_score\n",
    "from sklearn.model_selection import RepeatedStratifiedKFold\n",
    "from sklearn.ensemble import BaggingClassifier\n",
    "\n",
    "\n",
    "# get the dataset\n",
    "def get_dataset():\n",
    "    X, y = make_classification(n_samples=1000, n_features=20, n_informative=15, n_redundant=5, random_state=5)\n",
    "    return X, y\n",
    "\n",
    "# evaluate a given model using cross-validation\n",
    "def evaluate_model(model, X, y):\n",
    "    # define the evaluation procedure\n",
    "    cv = RepeatedStratifiedKFold(n_splits=10, n_repeats=3, random_state=1)\n",
    "    # evaluate the model and collect the results\n",
    "    scores = cross_val_score(model, X, y, scoring='accuracy', cv=cv, n_jobs=-1)\n",
    "    return scores\n",
    "\n",
    "def sckLearn_regression_polynomial(x,y,split,degree_poly):\n",
    "    i = 0\n",
    "    x_test = x[(x.size * split).__round__():]\n",
    "    y_test = y[(y.size * split).__round__():]\n",
    "    x_train = x[:(x.size * split).__round__()]\n",
    "    y_train = y[:(y.size * split).__round__()]\n",
    "    poly = PolynomialFeatures(degree=degree_poly)\n",
    "    X_poly = poly.fit_transform(x_train)\n",
    "    lin2 = LinearRegression()\n",
    "    lin2.fit(X_poly, y_train.ravel())\n",
    "    y_pred = lin2.predict(poly.fit_transform(x_test))\n",
    "    y_trend = lin2.predict(poly.fit_transform(x_train))\n",
    "    return y_pred,y_trend\n",
    "\n",
    "\n",
    "def print_hi(name):\n",
    "    # Use a breakpoint in the code line below to debug your script.\n",
    "    print(f'Hi, {name}')  # Press Ctrl+F8 to toggle the breakpoint."
   ]
  },
  {
   "cell_type": "code",
   "execution_count": 16,
   "metadata": {},
   "outputs": [
    {
     "name": "stdout",
     "output_type": "stream",
     "text": [
      "Hi, PyCharm\n"
     ]
    }
   ],
   "source": [
    "# Press the green button in the gutter to run the script.\n",
    "if __name__ == '__main__':\n",
    "    test_dataframes = {}\n",
    "    train_dataframes = {}\n",
    "    test_Open = {}\n",
    "    quandl.ApiConfig.api_key = 'NKL13i-RzgYty_HQNy7_'\n",
    "    data = ['BCHARTS/KRAKENUSD']\n",
    "    index = 1\n",
    "    for i in range(index):\n",
    "        train_dataframes[i] = pd.DataFrame(quandl.get(data[i], start_date=\"2016-05-20'\", end_date=\"2017-12-31\"))\n",
    "    for j in range(index):\n",
    "        test_dataframes[j] = pd.DataFrame(quandl.get(data[j], start_date=\"'2017-01-01\", end_date=\"2018-05-01\"))\n",
    "    test_merged = test_dataframes[0]\n",
    "    test_Open = test_merged['Open']\n",
    "    test_Open.replace(0, np.nan, inplace=True)\n",
    "    test_Open = test_Open.mean(axis=0)\n",
    "    btc_test_dataframes = test_dataframes[0]\n",
    "    btc_test_Closed = btc_test_dataframes['Close']\n",
    "    btc_test_Closed.replace(0, np.nan, inplace=True)\n",
    "    btc_test_Closed = btc_test_Closed.mean(axis=0)\n",
    "    btc_test_dataframes['Avg Close'] = btc_test_Closed\n",
    "    btc_test_dataframes['Avg Open'] = test_Open\n",
    "    btc_test_dataframes.to_csv('out.csv', index=False)\n",
    "    test_merged\n",
    "    training_set = pd.read_csv('out.csv')  # reading csv file\n",
    "    res = []\n",
    "    for i in range(training_set.shape[0]):\n",
    "        res.append([i + 1])\n",
    "\n",
    "    scale = MinMaxScaler()\n",
    "    y_training = scale.fit_transform(training_set.iloc[:, 0:1])\n",
    "    x1, x2, y1, y2 = train_test_split(res, y_training, train_size=0.9, shuffle=False)\n",
    "    # x_training\n",
    "    # y_training\n",
    "    # training_set\n",
    "    res1 = scale.fit_transform(res)\n",
    "    res = scale.fit_transform(res)\n",
    "    res = res.reshape((-1, 1, 1))\n",
    "    x1 = scale.fit_transform(x1)\n",
    "    print_hi('PyCharm')\n",
    "    split = 90/ 100\n",
    "    y_pred,y_trend = sckLearn_regression_polynomial(x1, y1, split, 2)\n",
    "    #\n",
    "    x_test = x1[(x1.size * split).__round__():]\n",
    "    y_test = y1[(y1.size * split).__round__():]\n",
    "    x_train = x1[:(x1.size * split).__round__()]\n",
    "    y_train = y1[:(y1.size * split).__round__()]"
   ]
  },
  {
   "cell_type": "code",
   "execution_count": 17,
   "metadata": {},
   "outputs": [
    {
     "data": {
      "image/png": "[encoded data removed]",
      "text/plain": [
       "<Figure size 432x288 with 1 Axes>"
      ]
     },
     "metadata": {
      "needs_background": "light"
     },
     "output_type": "display_data"
    }
   ],
   "source": [
    "plt.scatter(x1, y1, edgecolors='blue')\n",
    "plt.scatter(x_train, y_trend, edgecolors='green')\n",
    "plt.scatter(x_test, y_pred, edgecolors='black')\n",
    "plt.show()"
   ]
  },
  {
   "cell_type": "code",
   "execution_count": null,
   "metadata": {},
   "outputs": [],
   "source": []
  }
 ],
 "metadata": {
  "kernelspec": {
   "display_name": "Python 3",
   "language": "python",
   "name": "python3"
  },
  "language_info": {
   "codemirror_mode": {
    "name": "ipython",
    "version": 3
   },
   "file_extension": ".py",
   "mimetype": "text/x-python",
   "name": "python",
   "nbconvert_exporter": "python",
   "pygments_lexer": "ipython3",
   "version": "3.7.6"
  }
 },
 "nbformat": 4,
 "nbformat_minor": 4
}
